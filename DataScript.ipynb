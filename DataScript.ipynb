{
  "nbformat": 4,
  "nbformat_minor": 0,
  "metadata": {
    "colab": {
      "name": "DataScript.ipynb",
      "provenance": []
    },
    "kernelspec": {
      "name": "python3",
      "display_name": "Python 3"
    },
    "language_info": {
      "name": "python"
    }
  },
  "cells": [
    {
      "cell_type": "code",
      "source": [
        "from bs4 import BeautifulSoup\n",
        "import requests\n",
        "import pandas as pd"
      ],
      "metadata": {
        "id": "J8XlUec_edn0"
      },
      "execution_count": null,
      "outputs": []
    },
    {
      "cell_type": "code",
      "source": [
        "url = \"https://coinmarketcap.com/currencies/ripple/historical-data/?start=20130428&end=20180802\"\n",
        "content = requests.get(url).content\n",
        "soup = BeautifulSoup(content,'html.parser')\n",
        "table = soup.find('table', {'class': 'table'})"
      ],
      "metadata": {
        "id": "YlKYlsa-edwC"
      },
      "execution_count": null,
      "outputs": []
    },
    {
      "cell_type": "code",
      "source": [
        "data = [[td.text.strip() for td in tr.findChildren('td')] \n",
        "        for tr in table.findChildren('tr')]"
      ],
      "metadata": {
        "id": "0LeCOKtged0U"
      },
      "execution_count": null,
      "outputs": []
    },
    {
      "cell_type": "code",
      "source": [
        "df = pd.DataFrame(data)\n",
        "df.drop(df.index[0], inplace=True) # first row is empty\n",
        "df[0] =  pd.to_datetime(df[0]) # date\n",
        "for i in range(1,7):\n",
        "    df[i] = pd.to_numeric(df[i].str.replace(\",\",\"\").str.replace(\"-\",\"\")) # some vol is missing and has -\n",
        "df.columns = ['Date','Open','High','Low','Close','Volume','Market Cap']\n",
        "df.set_index('Date',inplace=True)\n",
        "df.sort_index(inplace=True)\n"
      ],
      "metadata": {
        "id": "nEJxh8u_ed3P"
      },
      "execution_count": null,
      "outputs": []
    }
  ]
}